{
  "nbformat": 4,
  "nbformat_minor": 0,
  "metadata": {
    "colab": {
      "provenance": [],
      "authorship_tag": "ABX9TyOjl3TPCgd1zGNoXzqp3HM9",
      "include_colab_link": true
    },
    "kernelspec": {
      "name": "python3",
      "display_name": "Python 3"
    },
    "language_info": {
      "name": "python"
    }
  },
  "cells": [
    {
      "cell_type": "markdown",
      "metadata": {
        "id": "view-in-github",
        "colab_type": "text"
      },
      "source": [
        "<a href=\"https://colab.research.google.com/github/Giandonn/Machine-Learning/blob/main/TrabalhoRedesNeuraisGraficos.ipynb\" target=\"_parent\"><img src=\"https://colab.research.google.com/assets/colab-badge.svg\" alt=\"Open In Colab\"/></a>"
      ]
    },
    {
      "cell_type": "code",
      "execution_count": 1,
      "metadata": {
        "id": "lcmOqRaKhChA"
      },
      "outputs": [],
      "source": [
        "import random\n",
        "import numpy as np\n",
        "import tensorflow as tf\n",
        "from tensorflow.keras import layers, models, optimizers\n",
        "from tensorflow.keras.datasets import cifar10\n",
        "from tensorflow.keras.utils import to_categorical\n",
        "import matplotlib.pyplot as plt\n",
        "import seaborn as sns\n"
      ]
    },
    {
      "cell_type": "code",
      "source": [
        "# Carrega o dataset CIFAR-10\n",
        "(x_train, y_train), (x_test, y_test) = cifar10.load_data()\n",
        "\n",
        "# Normalização\n",
        "x_train, x_test = x_train / 255.0, x_test / 255.0\n",
        "\n",
        "# One-hot encoding dos rótulos\n",
        "y_train, y_test = to_categorical(y_train), to_categorical(y_test)\n"
      ],
      "metadata": {
        "colab": {
          "base_uri": "https://localhost:8080/"
        },
        "id": "DAWIlptihGMW",
        "outputId": "1db24adf-24a0-4ff8-dcfd-7c50262a7aeb"
      },
      "execution_count": 2,
      "outputs": [
        {
          "output_type": "stream",
          "name": "stdout",
          "text": [
            "Downloading data from https://www.cs.toronto.edu/~kriz/cifar-10-python.tar.gz\n",
            "\u001b[1m170498071/170498071\u001b[0m \u001b[32m━━━━━━━━━━━━━━━━━━━━\u001b[0m\u001b[37m\u001b[0m \u001b[1m3s\u001b[0m 0us/step\n"
          ]
        }
      ]
    },
    {
      "cell_type": "code",
      "source": [
        "param_space = {\n",
        "    'num_filters': [32, 64, 128],\n",
        "    'kernel_size': [3, 5],\n",
        "    'dropout_rate': [0.25, 0.5],\n",
        "    'dense_units': [64, 128],\n",
        "    'optimizer': ['adam', 'sgd']\n",
        "}\n",
        "\n",
        "def create_individual():\n",
        "    return {\n",
        "        'num_filters': random.choice(param_space['num_filters']),\n",
        "        'kernel_size': random.choice(param_space['kernel_size']),\n",
        "        'dropout_rate': random.choice(param_space['dropout_rate']),\n",
        "        'dense_units': random.choice(param_space['dense_units']),\n",
        "        'optimizer': random.choice(param_space['optimizer'])\n",
        "    }\n"
      ],
      "metadata": {
        "id": "nkOEXXlHhInD"
      },
      "execution_count": 3,
      "outputs": []
    },
    {
      "cell_type": "code",
      "source": [
        "def build_model(ind):\n",
        "    model = models.Sequential([\n",
        "        layers.Conv2D(ind['num_filters'], (ind['kernel_size'], ind['kernel_size']), activation='relu', input_shape=(32, 32, 3)),\n",
        "        layers.MaxPooling2D((2, 2)),\n",
        "        layers.Flatten(),\n",
        "        layers.Dropout(ind['dropout_rate']),\n",
        "        layers.Dense(ind['dense_units'], activation='relu'),\n",
        "        layers.Dense(10, activation='softmax')\n",
        "    ])\n",
        "\n",
        "    opt = optimizers.Adam() if ind['optimizer'] == 'adam' else optimizers.SGD()\n",
        "    model.compile(optimizer=opt, loss='categorical_crossentropy', metrics=['accuracy'])\n",
        "\n",
        "    return model\n"
      ],
      "metadata": {
        "id": "eheTGqvwhLLa"
      },
      "execution_count": 4,
      "outputs": []
    },
    {
      "cell_type": "code",
      "source": [
        "def fitness(ind):\n",
        "    model = build_model(ind)\n",
        "    history = model.fit(\n",
        "        x_train[:10000], y_train[:10000],\n",
        "        epochs=3, batch_size=64,\n",
        "        verbose=0, validation_split=0.2\n",
        "    )\n",
        "    return history.history['val_accuracy'][-1]\n"
      ],
      "metadata": {
        "id": "pT7cihbOhNNv"
      },
      "execution_count": 5,
      "outputs": []
    },
    {
      "cell_type": "code",
      "source": [
        "def crossover(p1, p2):\n",
        "    return {k: random.choice([p1[k], p2[k]]) for k in p1}\n",
        "\n",
        "def mutate(ind):\n",
        "    key = random.choice(list(param_space.keys()))\n",
        "    ind[key] = random.choice(param_space[key])\n",
        "    return ind\n"
      ],
      "metadata": {
        "id": "uEiyuim6hPly"
      },
      "execution_count": 6,
      "outputs": []
    },
    {
      "cell_type": "code",
      "source": [
        "pop_size = 4\n",
        "num_generations = 3\n",
        "mutation_rate = 0.3\n",
        "\n",
        "population = [create_individual() for _ in range(pop_size)]\n",
        "history_geracoes = []\n",
        "\n",
        "for generation in range(num_generations):\n",
        "    print(f\"\\nGeração {generation+1}\")\n",
        "    scores = [fitness(ind) for ind in population]\n",
        "\n",
        "    history_geracoes.append({\n",
        "        'scores': scores.copy(),\n",
        "        'best_accuracy': max(scores),\n",
        "        'avg_accuracy': np.mean(scores),\n",
        "        'worst_accuracy': min(scores)\n",
        "    })\n",
        "\n",
        "    for i, (ind, score) in enumerate(zip(population, scores)):\n",
        "        print(f\"Indivíduo {i+1}: {ind}, Acurácia: {score:.4f}\")\n",
        "\n",
        "    sorted_population = [x for _, x in sorted(zip(scores, population), key=lambda pair: pair[0], reverse=True)]\n",
        "    population = sorted_population[:2]\n",
        "\n",
        "    while len(population) < pop_size:\n",
        "        p1, p2 = random.sample(population[:2], 2)\n",
        "        child = crossover(p1, p2)\n",
        "        if random.random() < mutation_rate:\n",
        "            child = mutate(child)\n",
        "        population.append(child)\n",
        "\n",
        "print(\"\\nMelhor modelo final:\")\n",
        "best_model = population[0]\n",
        "print(best_model)\n"
      ],
      "metadata": {
        "colab": {
          "base_uri": "https://localhost:8080/"
        },
        "id": "BhAccAG1hUw3",
        "outputId": "8b2bfdb9-8218-4a1c-d8df-519202a3423b"
      },
      "execution_count": null,
      "outputs": [
        {
          "output_type": "stream",
          "name": "stdout",
          "text": [
            "\n",
            "Geração 1\n"
          ]
        },
        {
          "output_type": "stream",
          "name": "stderr",
          "text": [
            "/usr/local/lib/python3.11/dist-packages/keras/src/layers/convolutional/base_conv.py:107: UserWarning: Do not pass an `input_shape`/`input_dim` argument to a layer. When using Sequential models, prefer using an `Input(shape)` object as the first layer in the model instead.\n",
            "  super().__init__(activity_regularizer=activity_regularizer, **kwargs)\n"
          ]
        },
        {
          "output_type": "stream",
          "name": "stdout",
          "text": [
            "Indivíduo 1: {'num_filters': 128, 'kernel_size': 3, 'dropout_rate': 0.5, 'dense_units': 128, 'optimizer': 'sgd'}, Acurácia: 0.2850\n",
            "Indivíduo 2: {'num_filters': 128, 'kernel_size': 3, 'dropout_rate': 0.5, 'dense_units': 64, 'optimizer': 'sgd'}, Acurácia: 0.3135\n",
            "Indivíduo 3: {'num_filters': 64, 'kernel_size': 3, 'dropout_rate': 0.25, 'dense_units': 128, 'optimizer': 'adam'}, Acurácia: 0.4960\n",
            "Indivíduo 4: {'num_filters': 128, 'kernel_size': 3, 'dropout_rate': 0.5, 'dense_units': 128, 'optimizer': 'adam'}, Acurácia: 0.5120\n",
            "\n",
            "Geração 2\n"
          ]
        }
      ]
    },
    {
      "cell_type": "code",
      "source": [
        "sns.set(style=\"whitegrid\")\n",
        "\n",
        "geracoes = list(range(1, num_generations + 1))\n",
        "melhores = [h['best_accuracy'] for h in history_geracoes]\n",
        "medias = [h['avg_accuracy'] for h in history_geracoes]\n",
        "piores = [h['worst_accuracy'] for h in history_geracoes]\n",
        "\n",
        "plt.figure(figsize=(12, 6))\n",
        "plt.plot(geracoes, melhores, label='Melhor da Geração', marker='o', linewidth=2, color='green')\n",
        "plt.plot(geracoes, medias, label='Média da Geração', marker='x', linewidth=2, color='blue')\n",
        "plt.plot(geracoes, piores, label='Pior da Geração', marker='s', linewidth=2, color='red')\n",
        "plt.xlabel(\"Geração\")\n",
        "plt.ylabel(\"Acurácia de Validação\")\n",
        "plt.title(\"Evolução da Acurácia por Geração (CIFAR-10 com Algoritmo Genético)\")\n",
        "plt.legend()\n",
        "plt.grid(alpha=0.3)\n",
        "plt.tight_layout()\n",
        "plt.show()\n"
      ],
      "metadata": {
        "id": "J9XN92XShZxQ"
      },
      "execution_count": null,
      "outputs": []
    },
    {
      "cell_type": "code",
      "source": [
        "plt.figure(figsize=(10, 6))\n",
        "data_box = [h['scores'] for h in history_geracoes]\n",
        "sns.boxplot(data=data_box)\n",
        "plt.xticks(ticks=np.arange(num_generations), labels=[f\"Geração {i+1}\" for i in range(num_generations)])\n",
        "plt.ylabel(\"Acurácia\")\n",
        "plt.title(\"Distribuição das Acurácias por Geração\")\n",
        "plt.grid(alpha=0.3)\n",
        "plt.tight_layout()\n",
        "plt.show()"
      ],
      "metadata": {
        "id": "yhaHLeGQhdOC"
      },
      "execution_count": null,
      "outputs": []
    }
  ]
}